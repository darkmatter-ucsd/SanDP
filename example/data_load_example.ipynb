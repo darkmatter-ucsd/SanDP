{
 "cells": [
  {
   "cell_type": "markdown",
   "metadata": {},
   "source": [
    "# How to get SanDiX easily\n",
    "\n",
    "Jingqiang Ye  \n",
    "Sep. 9, 2019"
   ]
  },
  {
   "cell_type": "code",
   "execution_count": 3,
   "metadata": {
    "collapsed": true
   },
   "outputs": [],
   "source": [
    "from sandp import utils"
   ]
  },
  {
   "cell_type": "markdown",
   "metadata": {},
   "source": [
    "## Load data\n",
    "\n",
    "One can load data by selecting the source type, amplifier condition, voltage (anode or cathode), and/or time. All the information is stored at ```datasets``` variable, and it'll finally return the run numbers after your data selection, which will be the final input for data loading."
   ]
  },
  {
   "cell_type": "code",
   "execution_count": 9,
   "metadata": {
    "collapsed": false
   },
   "outputs": [
    {
     "name": "stdout",
     "output_type": "stream",
     "text": [
      "120 total runs\n"
     ]
    }
   ],
   "source": [
    "datasets = utils.get_datasets()\n",
    "dsets = datasets[datasets.source_type == 'co57']  # other: 'tritium': Tritium, 'none': Background\n",
    "dsets = dsets[dsets.start < '05/22/2019']\n",
    "dsets = dsets[dsets.amplifier_on == True]\n",
    "dsets = dsets[dsets.cathode == 1500]\n",
    "dsets = dsets[dsets.anode == 4000]\n",
    "\n",
    "run_numbers = dsets.run_number.values  # get run numbers after all these selection\n",
    "print('%d total runs' %(len(run_numbers)))"
   ]
  },
  {
   "cell_type": "markdown",
   "metadata": {},
   "source": [
    "Load data by run numbers. If a run is missing it'll print:  \n",
    "`run: xx is not found, will be skipped`\n",
    "\n",
    "The following shows how to load data for regular analysis. You can choose processor version either `sandix_v1.1` (s2 width requirement 100 samples), or `sandp_test` (s2 width requirement 10 samples) by using `processor` key argument. The default is `sandix_v1.1`."
   ]
  },
  {
   "cell_type": "code",
   "execution_count": 10,
   "metadata": {
    "collapsed": false
   },
   "outputs": [
    {
     "name": "stderr",
     "output_type": "stream",
     "text": [
      "load data: 100%|██████████| 120/120 [01:10<00:00,  1.30it/s]\n"
     ]
    }
   ],
   "source": [
    "# load data for regular analysis\n",
    "data = utils.load(run_numbers)"
   ]
  },
  {
   "cell_type": "markdown",
   "metadata": {},
   "source": [
    "If you want to load data for single electron analysis, you can use the code below. Once again `sandix_v1.1` and `sandp_test` are both availabe for `processor` key argument, but the default is `sandp_test`."
   ]
  },
  {
   "cell_type": "code",
   "execution_count": 11,
   "metadata": {
    "collapsed": false
   },
   "outputs": [
    {
     "name": "stderr",
     "output_type": "stream",
     "text": [
      "\r",
      "load single e data:   0%|          | 0/70 [00:00<?, ?it/s]"
     ]
    },
    {
     "name": "stdout",
     "output_type": "stream",
     "text": [
      "run: 1 is not found, will be skipped\n",
      "run: 2 is not found, will be skipped\n",
      "run: 3 is not found, will be skipped\n",
      "run: 4 is not found, will be skipped\n",
      "run: 5 is not found, will be skipped\n",
      "run: 6 is not found, will be skipped\n",
      "run: 7 is not found, will be skipped\n",
      "run: 8 is not found, will be skipped\n",
      "run: 9 is not found, will be skipped\n",
      "run: 10 is not found, will be skipped\n",
      "run: 11 is not found, will be skipped\n",
      "run: 12 is not found, will be skipped\n",
      "run: 13 is not found, will be skipped\n",
      "run: 14 is not found, will be skipped\n",
      "run: 15 is not found, will be skipped\n",
      "run: 16 is not found, will be skipped\n",
      "run: 17 is not found, will be skipped\n",
      "run: 18 is not found, will be skipped\n",
      "run: 19 is not found, will be skipped\n",
      "run: 20 is not found, will be skipped\n",
      "run: 61 is not found, will be skipped\n",
      "run: 62 is not found, will be skipped\n",
      "run: 63 is not found, will be skipped\n",
      "run: 64 is not found, will be skipped\n",
      "run: 65 is not found, will be skipped\n",
      "run: 66 is not found, will be skipped\n",
      "run: 67 is not found, will be skipped\n",
      "run: 68 is not found, will be skipped\n",
      "run: 69 is not found, will be skipped\n",
      "run: 70 is not found, will be skipped\n",
      "run: 71 is not found, will be skipped\n",
      "run: 72 is not found, will be skipped\n",
      "run: 73 is not found, will be skipped\n",
      "run: 74 is not found, will be skipped\n",
      "run: 75 is not found, will be skipped\n",
      "run: 76 is not found, will be skipped\n",
      "run: 77 is not found, will be skipped\n",
      "run: 78 is not found, will be skipped\n",
      "run: 79 is not found, will be skipped\n",
      "run: 80 is not found, will be skipped\n",
      "run: 101 is not found, will be skipped\n",
      "run: 102 is not found, will be skipped\n",
      "run: 103 is not found, will be skipped\n",
      "run: 104 is not found, will be skipped\n",
      "run: 105 is not found, will be skipped\n",
      "run: 106 is not found, will be skipped\n",
      "run: 107 is not found, will be skipped\n",
      "run: 108 is not found, will be skipped\n",
      "run: 109 is not found, will be skipped\n",
      "run: 110 is not found, will be skipped\n"
     ]
    },
    {
     "name": "stderr",
     "output_type": "stream",
     "text": [
      "TClass::Init:0: RuntimeWarning: no dictionary for class ROOT::TIOFeatures is available\n",
      "load single e data: 100%|██████████| 70/70 [01:11<00:00,  1.20s/it]\n"
     ]
    }
   ],
   "source": [
    "# load data for single electron analysis\n",
    "from sandp import Alls2\n",
    "\n",
    "data = Alls2.load(run_numbers)"
   ]
  },
  {
   "cell_type": "code",
   "execution_count": null,
   "metadata": {
    "collapsed": true
   },
   "outputs": [],
   "source": []
  }
 ],
 "metadata": {
  "kernelspec": {
   "display_name": "Python 3",
   "language": "python",
   "name": "python3"
  },
  "language_info": {
   "codemirror_mode": {
    "name": "ipython",
    "version": 3
   },
   "file_extension": ".py",
   "mimetype": "text/x-python",
   "name": "python",
   "nbconvert_exporter": "python",
   "pygments_lexer": "ipython3",
   "version": "3.4.5"
  }
 },
 "nbformat": 4,
 "nbformat_minor": 2
}
